{
 "cells": [
  {
   "cell_type": "code",
   "execution_count": null,
   "metadata": {},
   "outputs": [],
   "source": [
    "import requests\n",
    "from datetime import datetime\n",
    "import json\n",
    "\n",
    "\n",
    "\n",
    "def pretty_print(obj):\n",
    "    '''\n",
    "    pritify print\n",
    "    converting \n",
    "    '''\n",
    "    pretty_text = json.dumps(obj, sort_keys=True, indent=3)\n",
    "    print(pretty_text)\n",
    "\n",
    "def get_current_rates():\n",
    "    '''\n",
    "    get currect exchange rate and convert them to json\n",
    "    '''\n",
    "    response = requests.get(\"https://api.exchangerate-api.com/v4/latest/USD\")\n",
    "    all_rates = response.json()\n",
    "    #converting timestemp format to datetime format\n",
    "    all_rates['time_last_updated'] =  str(datetime.fromtimestamp(all_rates['time_last_updated']))\n",
    "    return all_rates\n",
    "\n",
    "\n",
    "def currency_exchange():\n",
    "    '''\n",
    "    currency convertor\n",
    "    '''\n",
    "    try:\n",
    "        current_rates = get_current_rates()\n",
    "        amount = int(input(\"enter the amount of money you would like to change: \\n\"))\n",
    "        print(\"choose 'from' currency: \\n\")\n",
    "        #print list of exchange rates\n",
    "        pretty_print(current_rates)    \n",
    "        from_currency = input(\"from currency \\n\").upper()\n",
    "           \n",
    "        print(\"choose 'to' currency: \\n\")\n",
    "        to_currency = input(\"to currency \\n\").upper()\n",
    "        #rounding result to two decimal places\n",
    "        result = round((((current_rates['rates'][to_currency])/(current_rates['rates'][from_currency]))*amount),2)\n",
    "        print()\n",
    "        return f\"you entered {amount} of {from_currency} and change it to {result} of {to_currency}\"\n",
    "    \n",
    "    except:\n",
    "        return \"something went wrong, make sure you entered the right currency code\"\n",
    "    \n",
    "    \n",
    "    \n",
    "\n",
    "if __name__ == \"__main__\":\n",
    "    result = currency_exchange()\n",
    "    print(result)"
   ]
  }
 ],
 "metadata": {
  "kernelspec": {
   "display_name": "Python 3",
   "language": "python",
   "name": "python3"
  },
  "language_info": {
   "codemirror_mode": {
    "name": "ipython",
    "version": 3
   },
   "file_extension": ".py",
   "mimetype": "text/x-python",
   "name": "python",
   "nbconvert_exporter": "python",
   "pygments_lexer": "ipython3",
   "version": "3.8.5"
  }
 },
 "nbformat": 4,
 "nbformat_minor": 4
}
